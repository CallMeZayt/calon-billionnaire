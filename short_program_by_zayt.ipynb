{
 "cells": [
  {
   "cell_type": "markdown",
   "id": "daa4320b-a879-4c97-bd82-d05a5819ac3d",
   "metadata": {},
   "source": [
    "# An Introduction by ZytS"
   ]
  },
  {
   "cell_type": "code",
   "execution_count": 1,
   "id": "25ac7c3c-5319-4ad1-a4c4-3208ccb3acef",
   "metadata": {},
   "outputs": [
    {
     "name": "stdout",
     "output_type": "stream",
     "text": [
      "hell'o world :)\n"
     ]
    }
   ],
   "source": [
    "print (\"hell'o world :)\")"
   ]
  },
  {
   "cell_type": "code",
   "execution_count": 2,
   "id": "26b36b5d-eb04-4674-a449-60503f264474",
   "metadata": {},
   "outputs": [
    {
     "name": "stdout",
     "output_type": "stream",
     "text": [
      "this is a short program\n"
     ]
    }
   ],
   "source": [
    "print (\"this is a short program\")"
   ]
  },
  {
   "cell_type": "code",
   "execution_count": 3,
   "id": "4ffa6173-e08d-4b50-b3af-23e573a55c97",
   "metadata": {},
   "outputs": [
    {
     "name": "stdout",
     "output_type": "stream",
     "text": [
      "program halo.py\n",
      "by muhammad.al.zayt@mail.ugm.ac.id\n"
     ]
    }
   ],
   "source": [
    "print (\"program halo.py\")\n",
    "print (\"by muhammad.al.zayt@mail.ugm.ac.id\")"
   ]
  },
  {
   "cell_type": "code",
   "execution_count": null,
   "id": "d4cb88d0-d256-4eb3-a1ef-edc056d5ace8",
   "metadata": {},
   "outputs": [],
   "source": []
  }
 ],
 "metadata": {
  "kernelspec": {
   "display_name": "Python 3",
   "language": "python",
   "name": "python3"
  },
  "language_info": {
   "codemirror_mode": {
    "name": "ipython",
    "version": 3
   },
   "file_extension": ".py",
   "mimetype": "text/x-python",
   "name": "python",
   "nbconvert_exporter": "python",
   "pygments_lexer": "ipython3",
   "version": "3.8.5"
  }
 },
 "nbformat": 4,
 "nbformat_minor": 5
}
